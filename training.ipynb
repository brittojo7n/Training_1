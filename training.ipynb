{
 "cells": [
  {
   "cell_type": "code",
   "execution_count": 1,
   "id": "3e884b25",
   "metadata": {},
   "outputs": [
    {
     "name": "stdout",
     "output_type": "stream",
     "text": [
      "Topic: Programming Fundamentals (Type: <class 'str'>)\n",
      "Year: 2025 (Type: <class 'int'>)\n",
      "Rating: 4.5 (Type: <class 'float'>)\n",
      "Is it beginner friendly? True (Type: <class 'bool'>)\n"
     ]
    }
   ],
   "source": [
    "topic = \"Programming Fundamentals\"\n",
    "year = 2025\n",
    "rating = 4.5\n",
    "is_beginner_friendly = True\n",
    "print(f\"Topic: {topic} (Type: {type(topic)})\")\n",
    "print(f\"Year: {year} (Type: {type(year)})\")\n",
    "print(f\"Rating: {rating} (Type: {type(rating)})\")\n",
    "print(f\"Is it beginner friendly? {is_beginner_friendly} (Type: {type(is_beginner_friendly)})\")"
   ]
  },
  {
   "cell_type": "code",
   "execution_count": null,
   "id": "351ca604",
   "metadata": {},
   "outputs": [
    {
     "name": "stdout",
     "output_type": "stream",
     "text": [
      "Final String: gex hsk\n",
      "Execution time: 0.000590 seconds\n"
     ]
    }
   ],
   "source": [
    "import time\n",
    "\n",
    "def encrypt(string, shift):\n",
    "    result = \"\"\n",
    "    for char in string.lower():\n",
    "        if 'a' <= char <= 'z':\n",
    "            char_ascii = ord(char) + shift\n",
    "            if char_ascii > ord('z'):\n",
    "                char_ascii = char_ascii - 26\n",
    "            char += chr(char_ascii)\n",
    "        result += char   \n",
    "    return result\n",
    "\n",
    "start = time.perf_counter()\n",
    "\n",
    "string = encrypt(\"Cat Dog\", 4)\n",
    "\n",
    "print(f\"Final String: {string}\")\n",
    "end = time.perf_counter()\n",
    "print(f\"Execution time: {end - start:.6f} seconds\")"
   ]
  }
 ],
 "metadata": {
  "kernelspec": {
   "display_name": "venv (3.11.0)",
   "language": "python",
   "name": "python3"
  },
  "language_info": {
   "codemirror_mode": {
    "name": "ipython",
    "version": 3
   },
   "file_extension": ".py",
   "mimetype": "text/x-python",
   "name": "python",
   "nbconvert_exporter": "python",
   "pygments_lexer": "ipython3",
   "version": "3.11.0"
  }
 },
 "nbformat": 4,
 "nbformat_minor": 5
}
