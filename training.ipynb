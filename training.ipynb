{
 "cells": [
  {
   "cell_type": "code",
   "execution_count": 1,
   "id": "3e884b25",
   "metadata": {},
   "outputs": [
    {
     "name": "stdout",
     "output_type": "stream",
     "text": [
      "Topic: Programming Fundamentals (Type: <class 'str'>)\n",
      "Year: 2025 (Type: <class 'int'>)\n",
      "Rating: 4.5 (Type: <class 'float'>)\n",
      "Is it beginner friendly? True (Type: <class 'bool'>)\n"
     ]
    }
   ],
   "source": [
    "topic = \"Programming Fundamentals\"\n",
    "year = 2025\n",
    "rating = 4.5\n",
    "is_beginner_friendly = True\n",
    "print(f\"Topic: {topic} (Type: {type(topic)})\")\n",
    "print(f\"Year: {year} (Type: {type(year)})\")\n",
    "print(f\"Rating: {rating} (Type: {type(rating)})\")\n",
    "print(f\"Is it beginner friendly? {is_beginner_friendly} (Type: {type(is_beginner_friendly)})\")"
   ]
  },
  {
   "cell_type": "code",
   "execution_count": 87,
   "id": "351ca604",
   "metadata": {},
   "outputs": [
    {
     "name": "stdout",
     "output_type": "stream",
     "text": [
      "\n",
      "Input String: hello hi \n",
      "Final String: lipps lm \n",
      "Execution time: 0.000713 seconds\n"
     ]
    }
   ],
   "source": [
    "import time\n",
    "\n",
    "def encrypt(string, shift):\n",
    "    print(f\"\\nInput String: {string}\")\n",
    "    result = \"\"\n",
    "    for char in string.lower():\n",
    "        if 'a' <= char <= 'z':\n",
    "            char_ascii = ord(char) + shift\n",
    "            if char_ascii > ord('z'):\n",
    "                char_ascii = char_ascii - 26\n",
    "            result += chr(char_ascii)\n",
    "        else:\n",
    "            result += char\n",
    "    return result\n",
    "\n",
    "string = input(\"\\nEnter a string: \")\n",
    "start = time.perf_counter()\n",
    "string = encrypt(string, 4)\n",
    "print(f\"Final String: {string}\")\n",
    "end = time.perf_counter()\n",
    "print(f\"Execution time: {end - start:.6f} seconds\")"
   ]
  },
  {
   "cell_type": "code",
   "execution_count": 14,
   "id": "58a95ec1",
   "metadata": {},
   "outputs": [
    {
     "name": "stdout",
     "output_type": "stream",
     "text": [
      "test\n",
      "name\n",
      "new name\n"
     ]
    }
   ],
   "source": [
    "class Person:\n",
    "    name = 'test'\n",
    "    def __init__(self, name):\n",
    "        self.name = name\n",
    "\n",
    "    def get_name(self):\n",
    "        return self.name\n",
    "    \n",
    "    def set_name(self,name_):\n",
    "        self.name = name_\n",
    "\n",
    "    def print_details(self):\n",
    "        print(self.name)\n",
    "\n",
    "Person('test').print_details()\n",
    "nm = Person('name')\n",
    "nm.print_details()\n",
    "nm.set_name('new name')\n",
    "nm.print_details()"
   ]
  },
  {
   "cell_type": "code",
   "execution_count": 1,
   "id": "a8e1461e",
   "metadata": {},
   "outputs": [
    {
     "name": "stdout",
     "output_type": "stream",
     "text": [
      "Original List: [1, 2, 3, 4, 5]\n",
      "List after append: [1, 2, 3, 4, 5, 6]\n",
      "List after remove: [1, 2, 4, 5, 6]\n",
      "List after insert: [1, 10, 2, 4, 5, 6]\n",
      "List after pop: [1, 10, 2, 4, 5]\n",
      "List after sort: [1, 2, 4, 5, 10]\n",
      "Sliced List: [2, 4, 5]\n"
     ]
    }
   ],
   "source": [
    "# List\n",
    "my_list = [1, 2, 3, 4, 5]\n",
    "print(\"Original List:\", my_list)\n",
    "\n",
    "# List methods\n",
    "my_list.append(6)\n",
    "print(\"List after append:\", my_list)\n",
    "\n",
    "my_list.remove(3)\n",
    "print(\"List after remove:\", my_list)\n",
    "\n",
    "my_list.insert(1, 10)\n",
    "print(\"List after insert:\", my_list)\n",
    "\n",
    "my_list.pop()\n",
    "print(\"List after pop:\", my_list)\n",
    "\n",
    "my_list.sort()\n",
    "print(\"List after sort:\", my_list)\n",
    "\n",
    "# List manipulation\n",
    "new_list = my_list[1:4]\n",
    "print(\"Sliced List:\", new_list)\n"
   ]
  },
  {
   "cell_type": "code",
   "execution_count": 10,
   "id": "b68bdb07",
   "metadata": {},
   "outputs": [
    {
     "name": "stdout",
     "output_type": "stream",
     "text": [
      "\n",
      "Original Tuple: (1, 2, 3, 4, 5)\n",
      "Count of 2 in tuple: 1\n",
      "Index of 4 in tuple: 3\n",
      "Concatenated Tuple: (1, 2, 3, 4, 5, 6, 7)\n"
     ]
    }
   ],
   "source": [
    "# Tuple\n",
    "my_tuple = (1, 2, 3, 4, 5)\n",
    "print(\"\\nOriginal Tuple:\", my_tuple)\n",
    "\n",
    "# Tuple methods (limited as tuples are immutable)\n",
    "print(\"Count of 2 in tuple:\", my_tuple.count(2))\n",
    "print(\"Index of 4 in tuple:\", my_tuple.index(4))\n",
    "\n",
    "# Tuple manipulation\n",
    "new_tuple = my_tuple + (6, 7)\n",
    "print(\"Concatenated Tuple:\", new_tuple)"
   ]
  },
  {
   "cell_type": "code",
   "execution_count": null,
   "id": "81ce344b",
   "metadata": {},
   "outputs": [
    {
     "name": "stdout",
     "output_type": "stream",
     "text": [
      "\n",
      "Original Dictionary: {'name': 'Alice', 'age': 30, 'city': 'New York'}\n",
      "Keys of dictionary: dict_keys(['name', 'age', 'city'])\n",
      "Values of dictionary: dict_values(['Alice', 30, 'New York'])\n",
      "Items of dictionary: dict_items([('name', 'Alice'), ('age', 30), ('city', 'New York')])\n",
      "Dictionary after updating age: {'name': 'Alice', 'age': 31, 'city': 'New York'}\n",
      "Dictionary after adding occupation: {'name': 'Alice', 'age': 31, 'city': 'New York', 'occupation': 'Engineer'}\n",
      "New York\n",
      "Dictionary after removing city: {'name': 'Alice', 'age': 31, 'occupation': 'Engineer'}\n",
      "('occupation', 'Engineer')\n",
      "Dictionary after popitem(): {'name': 'Alice', 'age': 31}\n",
      "\n",
      " N/A \n",
      "\n",
      "name: Alice\n",
      "age: 31\n"
     ]
    }
   ],
   "source": [
    "# Dictionary\n",
    "my_dict = {\"name\": \"Alice\", \"age\": 30, \"city\": \"New York\"}\n",
    "print(\"\\nOriginal Dictionary:\", my_dict)\n",
    "\n",
    "# Dictionary methods\n",
    "print(\"Keys of dictionary:\", my_dict.keys())\n",
    "print(\"Values of dictionary:\", my_dict.values())\n",
    "print(\"Items of dictionary:\", my_dict.items())\n",
    "\n",
    "my_dict[\"age\"] = 31\n",
    "print(\"Dictionary after updating age:\", my_dict)\n",
    "\n",
    "my_dict[\"occupation\"] = \"Engineer\"\n",
    "print(\"Dictionary after adding occupation:\", my_dict)\n",
    "\n",
    "print(my_dict.pop(\"city\"))\n",
    "print(\"Dictionary after removing city:\", my_dict)\n",
    "\n",
    "print(my_dict.popitem())\n",
    "\n",
    "print(f\"Dictionary after popitem(): {my_dict}\")\n",
    "\n",
    "print(\"\\n\" + my_dict.pop(\"city\", \"N/A\") + \"\\n\")\n",
    "\n",
    "# Dictionary manipulation\n",
    "for key, value in my_dict.items():\n",
    "    print(f\"{key}: {value}\")"
   ]
  },
  {
   "cell_type": "code",
   "execution_count": 9,
   "id": "d911bbe9",
   "metadata": {},
   "outputs": [
    {
     "name": "stdout",
     "output_type": "stream",
     "text": [
      "\n",
      "Original Set: {1, 2, 3, 4, 5}\n",
      "Set after add: {1, 2, 3, 4, 5, 6}\n"
     ]
    }
   ],
   "source": [
    "# Set\n",
    "my_set = {1, 2, 3, 4, 5}\n",
    "print(\"\\nOriginal Set:\", my_set)\n",
    "\n",
    "# Set methods\n",
    "my_set.add(6)\n",
    "print(\"Set after add:\", my_set)"
   ]
  }
 ],
 "metadata": {
  "kernelspec": {
   "display_name": "venv (3.11.0)",
   "language": "python",
   "name": "python3"
  },
  "language_info": {
   "codemirror_mode": {
    "name": "ipython",
    "version": 3
   },
   "file_extension": ".py",
   "mimetype": "text/x-python",
   "name": "python",
   "nbconvert_exporter": "python",
   "pygments_lexer": "ipython3",
   "version": "3.11.0"
  }
 },
 "nbformat": 4,
 "nbformat_minor": 5
}
