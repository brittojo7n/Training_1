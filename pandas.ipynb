{
 "cells": [
  {
   "cell_type": "code",
   "execution_count": 1,
   "id": "ca3e30c3",
   "metadata": {},
   "outputs": [
    {
     "name": "stdout",
     "output_type": "stream",
     "text": [
      "--- Initial DataFrame (Created with Pandas only) ---\n",
      "              Name   Department   HireDate  Salary PerformanceScore\n",
      "EmployeeID                                                         \n",
      "E01           Arun           HR 2022-08-01   60000              4.5\n",
      "E02          Priya  Engineering 2021-05-12   95000              4.8\n",
      "E03          Rohan    Marketing 2023-01-15   72000              3.9\n",
      "E04          Sneha  Engineering 2021-05-20  105000              4.9\n",
      "E05         Vikram           HR 2024-02-01   58000              4.1\n",
      "E06         Anjali    Marketing 2022-09-30   75000             <NA>\n",
      "E07          Kiran         <NA> 2023-07-11   68000              3.5\n"
     ]
    }
   ],
   "source": [
    "import pandas as pd\n",
    "\n",
    "# Create the data for our DataFrame\n",
    "# We use Python's 'None' or pd.NA for missing values. Pandas handles this perfectly.\n",
    "data = {\n",
    "    'EmployeeID': ['E01', 'E02', 'E03', 'E04', 'E05', 'E06', 'E07'],\n",
    "    'Name': ['Arun', 'Priya', 'Rohan', 'Sneha', 'Vikram', 'Anjali', 'Kiran'],\n",
    "    'Department': ['HR', 'Engineering', 'Marketing', 'Engineering', 'HR', 'Marketing', pd.NA],\n",
    "    'HireDate': pd.to_datetime(['2022-08-01', '2021-05-12', '2023-01-15', '2021-05-20', '2024-02-01', '2022-09-30', '2023-07-11']),\n",
    "    'Salary': [60000, 95000, 72000, 105000, 58000, 75000, 68000],\n",
    "    'PerformanceScore': [4.5, 4.8, 3.9, 4.9, 4.1, pd.NA, 3.5]\n",
    "}\n",
    "\n",
    "# Create the DataFrame\n",
    "df = pd.DataFrame(data)\n",
    "\n",
    "# Set 'EmployeeID' as the index for more meaningful row labels\n",
    "df.set_index('EmployeeID', inplace=True)\n",
    "\n",
    "# Display the initial DataFrame\n",
    "print(\"--- Initial DataFrame (Created with Pandas only) ---\")\n",
    "print(df)"
   ]
  },
  {
   "cell_type": "code",
   "execution_count": 2,
   "id": "d21ef46c",
   "metadata": {},
   "outputs": [
    {
     "name": "stdout",
     "output_type": "stream",
     "text": [
      "--- df.head(3) ---\n",
      "             Name   Department   HireDate  Salary PerformanceScore\n",
      "EmployeeID                                                        \n",
      "E01          Arun           HR 2022-08-01   60000              4.5\n",
      "E02         Priya  Engineering 2021-05-12   95000              4.8\n",
      "E03         Rohan    Marketing 2023-01-15   72000              3.9\n",
      "\n",
      "--- df.tail(2) ---\n",
      "              Name Department   HireDate  Salary PerformanceScore\n",
      "EmployeeID                                                       \n",
      "E06         Anjali  Marketing 2022-09-30   75000             <NA>\n",
      "E07          Kiran       <NA> 2023-07-11   68000              3.5\n"
     ]
    }
   ],
   "source": [
    "# Get the first 3 rows\n",
    "print(\"--- df.head(3) ---\")\n",
    "print(df.head(3))\n",
    "\n",
    "# Get the last 2 rows\n",
    "print(\"\\n--- df.tail(2) ---\")\n",
    "print(df.tail(2))"
   ]
  },
  {
   "cell_type": "code",
   "execution_count": 3,
   "id": "226d1bd9",
   "metadata": {},
   "outputs": [
    {
     "name": "stdout",
     "output_type": "stream",
     "text": [
      "--- df.info() ---\n",
      "<class 'pandas.core.frame.DataFrame'>\n",
      "Index: 7 entries, E01 to E07\n",
      "Data columns (total 5 columns):\n",
      " #   Column            Non-Null Count  Dtype         \n",
      "---  ------            --------------  -----         \n",
      " 0   Name              7 non-null      object        \n",
      " 1   Department        6 non-null      object        \n",
      " 2   HireDate          7 non-null      datetime64[ns]\n",
      " 3   Salary            7 non-null      int64         \n",
      " 4   PerformanceScore  6 non-null      object        \n",
      "dtypes: datetime64[ns](1), int64(1), object(3)\n",
      "memory usage: 336.0+ bytes\n"
     ]
    }
   ],
   "source": [
    "print(\"--- df.info() ---\")\n",
    "df.info()"
   ]
  },
  {
   "cell_type": "code",
   "execution_count": 4,
   "id": "ef2ec7d9",
   "metadata": {},
   "outputs": [
    {
     "name": "stdout",
     "output_type": "stream",
     "text": [
      "--- df.describe() ---\n",
      "                            HireDate         Salary\n",
      "count                              7       7.000000\n",
      "mean   2022-09-03 17:08:34.285714176   76142.857143\n",
      "min              2021-05-12 00:00:00   58000.000000\n",
      "25%              2021-12-25 00:00:00   64000.000000\n",
      "50%              2022-09-30 00:00:00   72000.000000\n",
      "75%              2023-04-13 12:00:00   85000.000000\n",
      "max              2024-02-01 00:00:00  105000.000000\n",
      "std                              NaN   17620.334573\n"
     ]
    }
   ],
   "source": [
    "print(\"--- df.describe() ---\")\n",
    "print(df.describe())"
   ]
  },
  {
   "cell_type": "code",
   "execution_count": 6,
   "id": "d4251ee9",
   "metadata": {},
   "outputs": [
    {
     "name": "stdout",
     "output_type": "stream",
     "text": [
      "Shape of DataFrame (rows, columns): (7, 5)\n",
      "\n",
      "Column Labels: Index(['Name', 'Department', 'HireDate', 'Salary', 'PerformanceScore'], dtype='object')\n",
      "\n",
      "Index Labels: Index(['E01', 'E02', 'E03', 'E04', 'E05', 'E06', 'E07'], dtype='object', name='EmployeeID')\n",
      "\n",
      "--- Data Types of each column ---\n",
      "Name                        object\n",
      "Department                  object\n",
      "HireDate            datetime64[ns]\n",
      "Salary                       int64\n",
      "PerformanceScore            object\n",
      "dtype: object\n"
     ]
    }
   ],
   "source": [
    "print(f\"Shape of DataFrame (rows, columns): {df.shape}\")\n",
    "print(f\"\\nColumn Labels: {df.columns}\")\n",
    "print(f\"\\nIndex Labels: {df.index}\")\n",
    "print(\"\\n--- Data Types of each column ---\")\n",
    "print(df.dtypes)"
   ]
  },
  {
   "cell_type": "code",
   "execution_count": 8,
   "id": "b6699629",
   "metadata": {},
   "outputs": [
    {
     "name": "stdout",
     "output_type": "stream",
     "text": [
      "--- Single Column: Name ---\n",
      "EmployeeID\n",
      "E01      Arun\n",
      "E02     Priya\n",
      "E03     Rohan\n",
      "E04     Sneha\n",
      "E05    Vikram\n",
      "E06    Anjali\n",
      "E07     Kiran\n",
      "Name: Name, dtype: object\n",
      "\n",
      "\n",
      "--- Multiple Columns: Name and Department ---\n",
      "              Name   Department\n",
      "EmployeeID                     \n",
      "E01           Arun           HR\n",
      "E02          Priya  Engineering\n",
      "E03          Rohan    Marketing\n",
      "E04          Sneha  Engineering\n",
      "E05         Vikram           HR\n",
      "E06         Anjali    Marketing\n",
      "E07          Kiran         <NA>\n"
     ]
    }
   ],
   "source": [
    "# Select a single column (returns a Series)\n",
    "names = df['Name']\n",
    "print(\"--- Single Column: Name ---\")\n",
    "print(names)\n",
    "\n",
    "# Select multiple columns (returns a DataFrame)\n",
    "contact_info = df[['Name', 'Department']]\n",
    "print(\"\\n\\n--- Multiple Columns: Name and Department ---\")\n",
    "print(contact_info)"
   ]
  },
  {
   "cell_type": "code",
   "execution_count": 9,
   "id": "06a30eb2",
   "metadata": {},
   "outputs": [
    {
     "name": "stdout",
     "output_type": "stream",
     "text": [
      "--- df.loc['E01'] ---\n",
      "Name                               Arun\n",
      "Department                           HR\n",
      "HireDate            2022-08-01 00:00:00\n",
      "Salary                            60000\n",
      "PerformanceScore                    4.5\n",
      "Name: E01, dtype: object\n",
      "\n",
      "--- df.iloc[0] ---\n",
      "Name                               Arun\n",
      "Department                           HR\n",
      "HireDate            2022-08-01 00:00:00\n",
      "Salary                            60000\n",
      "PerformanceScore                    4.5\n",
      "Name: E01, dtype: object\n"
     ]
    }
   ],
   "source": [
    "# --- Using .loc (label-based) ---\n",
    "# Select a single row by its index label\n",
    "arun_data = df.loc['E01']\n",
    "print(\"--- df.loc['E01'] ---\")\n",
    "print(arun_data)\n",
    "\n",
    "# --- Using .iloc (integer-position-based) ---\n",
    "# Select the first row (position 0)\n",
    "first_row = df.iloc[0]\n",
    "print(\"\\n--- df.iloc[0] ---\")\n",
    "print(first_row)"
   ]
  },
  {
   "cell_type": "code",
   "execution_count": 10,
   "id": "08fe613a",
   "metadata": {},
   "outputs": [
    {
     "name": "stdout",
     "output_type": "stream",
     "text": [
      "--- Engineers ---\n",
      "             Name   Department   HireDate  Salary PerformanceScore\n",
      "EmployeeID                                                        \n",
      "E02         Priya  Engineering 2021-05-12   95000              4.8\n",
      "E04         Sneha  Engineering 2021-05-20  105000              4.9\n",
      "\n",
      "--- High Earners (Salary > 70000) ---\n",
      "              Name   Department   HireDate  Salary PerformanceScore\n",
      "EmployeeID                                                         \n",
      "E02          Priya  Engineering 2021-05-12   95000              4.8\n",
      "E03          Rohan    Marketing 2023-01-15   72000              3.9\n",
      "E04          Sneha  Engineering 2021-05-20  105000              4.9\n",
      "E06         Anjali    Marketing 2022-09-30   75000             <NA>\n",
      "\n",
      "--- High Performing HR Employees ---\n",
      "              Name Department   HireDate  Salary PerformanceScore\n",
      "EmployeeID                                                       \n",
      "E01           Arun         HR 2022-08-01   60000              4.5\n",
      "E05         Vikram         HR 2024-02-01   58000              4.1\n"
     ]
    }
   ],
   "source": [
    "# Find all employees in the 'Engineering' department\n",
    "engineers = df[df['Department'] == 'Engineering']\n",
    "print(\"--- Engineers ---\")\n",
    "print(engineers)\n",
    "\n",
    "# Find all employees with a salary greater than 70000\n",
    "high_earners = df[df['Salary'] > 70000]\n",
    "print(\"\\n--- High Earners (Salary > 70000) ---\")\n",
    "print(high_earners)\n",
    "\n",
    "# Combine conditions: Find employees in HR with a score above 4\n",
    "hr_high_performers = df[(df['Department'] == 'HR') & (df['PerformanceScore'] > 4)]\n",
    "print(\"\\n--- High Performing HR Employees ---\")\n",
    "print(hr_high_performers)"
   ]
  },
  {
   "cell_type": "code",
   "execution_count": 11,
   "id": "3abc24e2",
   "metadata": {},
   "outputs": [
    {
     "name": "stdout",
     "output_type": "stream",
     "text": [
      "--- DataFrame after dropping 'HireDate' column ---\n",
      "              Name   Department  Salary PerformanceScore\n",
      "EmployeeID                                              \n",
      "E01           Arun           HR   60000              4.5\n",
      "E02          Priya  Engineering   95000              4.8\n",
      "E03          Rohan    Marketing   72000              3.9\n",
      "E04          Sneha  Engineering  105000              4.9\n",
      "E05         Vikram           HR   58000              4.1\n",
      "\n",
      "--- DataFrame after dropping row 'E05' ---\n",
      "              Name   Department   HireDate  Salary PerformanceScore\n",
      "EmployeeID                                                         \n",
      "E01           Arun           HR 2022-08-01   60000              4.5\n",
      "E02          Priya  Engineering 2021-05-12   95000              4.8\n",
      "E03          Rohan    Marketing 2023-01-15   72000              3.9\n",
      "E04          Sneha  Engineering 2021-05-20  105000              4.9\n",
      "E06         Anjali    Marketing 2022-09-30   75000             <NA>\n",
      "E07          Kiran         <NA> 2023-07-11   68000              3.5\n"
     ]
    }
   ],
   "source": [
    "# Drop a column (axis=1)\n",
    "df_no_hiredate = df.drop('HireDate', axis=1)\n",
    "print(\"--- DataFrame after dropping 'HireDate' column ---\")\n",
    "print(df_no_hiredate.head())\n",
    "\n",
    "# Drop a row by its index label (axis=0 is default)\n",
    "df_without_e05 = df.drop('E05')\n",
    "print(\"\\n--- DataFrame after dropping row 'E05' ---\")\n",
    "print(df_without_e05)"
   ]
  },
  {
   "cell_type": "code",
   "execution_count": 12,
   "id": "c82847f5",
   "metadata": {},
   "outputs": [
    {
     "name": "stdout",
     "output_type": "stream",
     "text": [
      "--- Renamed columns ---\n",
      "           EmployeeName   Department   HireDate  AnnualSalary (INR)  \\\n",
      "EmployeeID                                                            \n",
      "E01                Arun           HR 2022-08-01               60000   \n",
      "E02               Priya  Engineering 2021-05-12               95000   \n",
      "E03               Rohan    Marketing 2023-01-15               72000   \n",
      "E04               Sneha  Engineering 2021-05-20              105000   \n",
      "E05              Vikram           HR 2024-02-01               58000   \n",
      "\n",
      "           PerformanceScore  \n",
      "EmployeeID                   \n",
      "E01                     4.5  \n",
      "E02                     4.8  \n",
      "E03                     3.9  \n",
      "E04                     4.9  \n",
      "E05                     4.1  \n"
     ]
    }
   ],
   "source": [
    "# Rename columns\n",
    "df_renamed = df.rename(columns={'Salary': 'AnnualSalary (INR)', 'Name': 'EmployeeName'})\n",
    "print(\"--- Renamed columns ---\")\n",
    "print(df_renamed.head())"
   ]
  },
  {
   "cell_type": "code",
   "execution_count": 15,
   "id": "1b86a496",
   "metadata": {},
   "outputs": [
    {
     "name": "stdout",
     "output_type": "stream",
     "text": [
      "\n",
      "--- Employee counts per Department ---\n",
      "Department\n",
      "HR             2\n",
      "Engineering    2\n",
      "Marketing      2\n",
      "Name: count, dtype: int64\n"
     ]
    }
   ],
   "source": [
    "# Count the number of employees in each department\n",
    "# By default, it excludes missing values.\n",
    "dept_counts = df['Department'].value_counts()\n",
    "print(\"\\n--- Employee counts per Department ---\")\n",
    "print(dept_counts)"
   ]
  },
  {
   "cell_type": "code",
   "execution_count": 14,
   "id": "51747f24",
   "metadata": {},
   "outputs": [
    {
     "name": "stdout",
     "output_type": "stream",
     "text": [
      "--- Sorted by Salary (Descending) ---\n",
      "              Name   Department   HireDate  Salary PerformanceScore\n",
      "EmployeeID                                                         \n",
      "E04          Sneha  Engineering 2021-05-20  105000              4.9\n",
      "E02          Priya  Engineering 2021-05-12   95000              4.8\n",
      "E06         Anjali    Marketing 2022-09-30   75000             <NA>\n",
      "E03          Rohan    Marketing 2023-01-15   72000              3.9\n",
      "E07          Kiran         <NA> 2023-07-11   68000              3.5\n",
      "E01           Arun           HR 2022-08-01   60000              4.5\n",
      "E05         Vikram           HR 2024-02-01   58000              4.1\n",
      "\n",
      "--- Sorted by Department, then Salary ---\n",
      "              Name   Department   HireDate  Salary PerformanceScore\n",
      "EmployeeID                                                         \n",
      "E02          Priya  Engineering 2021-05-12   95000              4.8\n",
      "E04          Sneha  Engineering 2021-05-20  105000              4.9\n",
      "E05         Vikram           HR 2024-02-01   58000              4.1\n",
      "E01           Arun           HR 2022-08-01   60000              4.5\n",
      "E03          Rohan    Marketing 2023-01-15   72000              3.9\n",
      "E06         Anjali    Marketing 2022-09-30   75000             <NA>\n",
      "E07          Kiran         <NA> 2023-07-11   68000              3.5\n"
     ]
    }
   ],
   "source": [
    "# Sort by Salary in descending order\n",
    "df_sorted_by_salary = df.sort_values(by='Salary', ascending=False)\n",
    "print(\"--- Sorted by Salary (Descending) ---\")\n",
    "print(df_sorted_by_salary)\n",
    "\n",
    "# Sort by Department, then by Salary\n",
    "df_multi_sorted = df.sort_values(by=['Department', 'Salary'])\n",
    "print(\"\\n--- Sorted by Department, then Salary ---\")\n",
    "print(df_multi_sorted)"
   ]
  }
 ],
 "metadata": {
  "kernelspec": {
   "display_name": "venv (3.11.0)",
   "language": "python",
   "name": "python3"
  },
  "language_info": {
   "codemirror_mode": {
    "name": "ipython",
    "version": 3
   },
   "file_extension": ".py",
   "mimetype": "text/x-python",
   "name": "python",
   "nbconvert_exporter": "python",
   "pygments_lexer": "ipython3",
   "version": "3.11.0"
  }
 },
 "nbformat": 4,
 "nbformat_minor": 5
}
