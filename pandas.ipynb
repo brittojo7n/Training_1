{
 "cells": [
  {
   "cell_type": "code",
   "execution_count": null,
   "id": "ca3e30c3",
   "metadata": {},
   "outputs": [
    {
     "name": "stdout",
     "output_type": "stream",
     "text": [
      "Original DataFrame:\n",
      "         0        1        2                 3      4        5          6\n",
      "0   [Name]    Alice      Bob           Charlie  David      Eva      Henry\n",
      "1    [Age]       22       23                21     22       24         30\n",
      "2  [Major]  Physics  History  Computer Science   Math  Physics  Chemistry\n"
     ]
    }
   ],
   "source": [
    "import pandas as pd\n",
    "\n",
    "# Data for our table\n",
    "student_data = {\n",
    "    'Name': ['Alice', 'Bob', 'Charlie', 'David', 'Eva', 'Henry'],\n",
    "    'Age': [22, 23, 21, 22, 24, 30],\n",
    "    'Major': ['Physics', 'History', 'Computer Science', 'Math', 'Physics', 'Chemistry']\n",
    "}\n",
    "\n",
    "# Create a DataFrame\n",
    "df = pd.DataFrame(student_data)\n",
    "\n",
    "print(\"Original DataFrame:\")\n",
    "print(df)"
   ]
  },
  {
   "cell_type": "code",
   "execution_count": 50,
   "id": "d21ef46c",
   "metadata": {},
   "outputs": [
    {
     "name": "stdout",
     "output_type": "stream",
     "text": [
      "         0        1        2                 3      4        5          6\n",
      "0   [Name]    Alice      Bob           Charlie  David      Eva      Henry\n",
      "1    [Age]       22       23                21     22       24         30\n",
      "2  [Major]  Physics  History  Computer Science   Math  Physics  Chemistry\n"
     ]
    }
   ],
   "source": [
    "# Show the first 3 rows (default is 5)\n",
    "print(df.head(3))"
   ]
  },
  {
   "cell_type": "code",
   "execution_count": 27,
   "id": "f58f7b5f",
   "metadata": {},
   "outputs": [
    {
     "name": "stdout",
     "output_type": "stream",
     "text": [
      "    Name  Age      Major\n",
      "4    Eva   24    Physics\n",
      "5  Henry   30  Chemistry\n"
     ]
    }
   ],
   "source": [
    "# Show the last 3 rows (default is 5)\n",
    "print(df.tail(2))"
   ]
  },
  {
   "cell_type": "code",
   "execution_count": 28,
   "id": "226d1bd9",
   "metadata": {},
   "outputs": [
    {
     "name": "stdout",
     "output_type": "stream",
     "text": [
      "6 rows and 3 columns.\n"
     ]
    }
   ],
   "source": [
    "# Get the number of rows and columns\n",
    "print(f\"{df.shape[0]} rows and {df.shape[1]} columns.\")"
   ]
  },
  {
   "cell_type": "code",
   "execution_count": 29,
   "id": "ef2ec7d9",
   "metadata": {},
   "outputs": [
    {
     "name": "stdout",
     "output_type": "stream",
     "text": [
      "<class 'pandas.core.frame.DataFrame'>\n",
      "RangeIndex: 6 entries, 0 to 5\n",
      "Data columns (total 3 columns):\n",
      " #   Column  Non-Null Count  Dtype \n",
      "---  ------  --------------  ----- \n",
      " 0   Name    6 non-null      object\n",
      " 1   Age     6 non-null      int64 \n",
      " 2   Major   6 non-null      object\n",
      "dtypes: int64(1), object(2)\n",
      "memory usage: 272.0+ bytes\n"
     ]
    }
   ],
   "source": [
    "# Get a concise summary\n",
    "df.info()"
   ]
  },
  {
   "cell_type": "code",
   "execution_count": 35,
   "id": "6f9177f3",
   "metadata": {},
   "outputs": [
    {
     "data": {
      "text/html": [
       "<div>\n",
       "<style scoped>\n",
       "    .dataframe tbody tr th:only-of-type {\n",
       "        vertical-align: middle;\n",
       "    }\n",
       "\n",
       "    .dataframe tbody tr th {\n",
       "        vertical-align: top;\n",
       "    }\n",
       "\n",
       "    .dataframe thead th {\n",
       "        text-align: right;\n",
       "    }\n",
       "</style>\n",
       "<table border=\"1\" class=\"dataframe\">\n",
       "  <thead>\n",
       "    <tr style=\"text-align: right;\">\n",
       "      <th></th>\n",
       "      <th>Age</th>\n",
       "    </tr>\n",
       "  </thead>\n",
       "  <tbody>\n",
       "    <tr>\n",
       "      <th>count</th>\n",
       "      <td>6.000000</td>\n",
       "    </tr>\n",
       "    <tr>\n",
       "      <th>mean</th>\n",
       "      <td>23.666667</td>\n",
       "    </tr>\n",
       "    <tr>\n",
       "      <th>std</th>\n",
       "      <td>3.265986</td>\n",
       "    </tr>\n",
       "    <tr>\n",
       "      <th>min</th>\n",
       "      <td>21.000000</td>\n",
       "    </tr>\n",
       "    <tr>\n",
       "      <th>25%</th>\n",
       "      <td>22.000000</td>\n",
       "    </tr>\n",
       "    <tr>\n",
       "      <th>50%</th>\n",
       "      <td>22.500000</td>\n",
       "    </tr>\n",
       "    <tr>\n",
       "      <th>75%</th>\n",
       "      <td>23.750000</td>\n",
       "    </tr>\n",
       "    <tr>\n",
       "      <th>max</th>\n",
       "      <td>30.000000</td>\n",
       "    </tr>\n",
       "  </tbody>\n",
       "</table>\n",
       "</div>"
      ],
      "text/plain": [
       "             Age\n",
       "count   6.000000\n",
       "mean   23.666667\n",
       "std     3.265986\n",
       "min    21.000000\n",
       "25%    22.000000\n",
       "50%    22.500000\n",
       "75%    23.750000\n",
       "max    30.000000"
      ]
     },
     "execution_count": 35,
     "metadata": {},
     "output_type": "execute_result"
    }
   ],
   "source": [
    "df.describe()"
   ]
  },
  {
   "cell_type": "code",
   "execution_count": 30,
   "id": "d4251ee9",
   "metadata": {},
   "outputs": [
    {
     "name": "stdout",
     "output_type": "stream",
     "text": [
      "0      Alice\n",
      "1        Bob\n",
      "2    Charlie\n",
      "3      David\n",
      "4        Eva\n",
      "5      Henry\n",
      "Name: Name, dtype: object\n"
     ]
    }
   ],
   "source": [
    "# Select only the 'Name' column\n",
    "names = df['Name']\n",
    "print(names)"
   ]
  },
  {
   "cell_type": "code",
   "execution_count": 31,
   "id": "b6699629",
   "metadata": {},
   "outputs": [
    {
     "name": "stdout",
     "output_type": "stream",
     "text": [
      "      Name             Major\n",
      "0    Alice           Physics\n",
      "1      Bob           History\n",
      "2  Charlie  Computer Science\n",
      "3    David              Math\n",
      "4      Eva           Physics\n",
      "5    Henry         Chemistry\n"
     ]
    }
   ],
   "source": [
    "# Select the 'Name' and 'Major' columns\n",
    "name_and_major = df[['Name', 'Major']]\n",
    "print(name_and_major)"
   ]
  },
  {
   "cell_type": "code",
   "execution_count": 32,
   "id": "06a30eb2",
   "metadata": {},
   "outputs": [
    {
     "name": "stdout",
     "output_type": "stream",
     "text": [
      "    Name  Age      Major\n",
      "1    Bob   23    History\n",
      "4    Eva   24    Physics\n",
      "5  Henry   30  Chemistry\n"
     ]
    }
   ],
   "source": [
    "# Get all students with Age > 22\n",
    "older_students = df[df['Age'] > 22]\n",
    "print(older_students)"
   ]
  },
  {
   "cell_type": "code",
   "execution_count": 33,
   "id": "08fe613a",
   "metadata": {},
   "outputs": [
    {
     "name": "stdout",
     "output_type": "stream",
     "text": [
      "  Name  Age    Major\n",
      "4  Eva   24  Physics\n"
     ]
    }
   ],
   "source": [
    "# Get all Physics majors older than 22\n",
    "# Note the parentheses around each condition\n",
    "physics_majors_older_than_22 = df[(df['Major'] == 'Physics') & (df['Age'] > 22)]\n",
    "print(physics_majors_older_than_22)"
   ]
  },
  {
   "cell_type": "code",
   "execution_count": 36,
   "id": "3abc24e2",
   "metadata": {},
   "outputs": [
    {
     "name": "stdout",
     "output_type": "stream",
     "text": [
      "      Name  Age             Major  GPA\n",
      "0    Alice   22           Physics  3.8\n",
      "1      Bob   23           History  3.5\n",
      "2  Charlie   21  Computer Science  3.9\n",
      "3    David   22              Math  3.4\n",
      "4      Eva   24           Physics  3.7\n",
      "5    Henry   30         Chemistry  3.8\n"
     ]
    }
   ],
   "source": [
    "# Add a 'GPA' column\n",
    "df['GPA'] = [3.8, 3.5, 3.9, 3.4, 3.7, 3.8]\n",
    "print(df)"
   ]
  },
  {
   "cell_type": "code",
   "execution_count": 37,
   "id": "c82847f5",
   "metadata": {},
   "outputs": [
    {
     "name": "stdout",
     "output_type": "stream",
     "text": [
      "      Name  Age             Major\n",
      "0    Alice   22           Physics\n",
      "1      Bob   23           History\n",
      "2  Charlie   21  Computer Science\n",
      "3    David   22              Math\n",
      "4      Eva   24           Physics\n",
      "5    Henry   30         Chemistry\n"
     ]
    }
   ],
   "source": [
    "# Drop the 'GPA' column\n",
    "df = df.drop('GPA', axis=1)\n",
    "print(df)"
   ]
  },
  {
   "cell_type": "code",
   "execution_count": 38,
   "id": "1b86a496",
   "metadata": {},
   "outputs": [
    {
     "name": "stdout",
     "output_type": "stream",
     "text": [
      "count     6.000000\n",
      "mean     23.666667\n",
      "std       3.265986\n",
      "min      21.000000\n",
      "25%      22.000000\n",
      "50%      22.500000\n",
      "75%      23.750000\n",
      "max      30.000000\n",
      "Name: Age, dtype: float64\n"
     ]
    }
   ],
   "source": [
    "# Get statistics for numerical columns\n",
    "print(df['Age'].describe())"
   ]
  },
  {
   "cell_type": "code",
   "execution_count": 39,
   "id": "51747f24",
   "metadata": {},
   "outputs": [
    {
     "name": "stdout",
     "output_type": "stream",
     "text": [
      "\n",
      "The average age of the students is: 23.666666666666668\n"
     ]
    }
   ],
   "source": [
    "# Calculate the average age\n",
    "average_age = df['Age'].mean()\n",
    "print(f\"\\nThe average age of the students is: {average_age}\")"
   ]
  }
 ],
 "metadata": {
  "kernelspec": {
   "display_name": "venv (3.11.0)",
   "language": "python",
   "name": "python3"
  },
  "language_info": {
   "codemirror_mode": {
    "name": "ipython",
    "version": 3
   },
   "file_extension": ".py",
   "mimetype": "text/x-python",
   "name": "python",
   "nbconvert_exporter": "python",
   "pygments_lexer": "ipython3",
   "version": "3.11.0"
  }
 },
 "nbformat": 4,
 "nbformat_minor": 5
}
