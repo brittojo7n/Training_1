{
 "cells": [
  {
   "cell_type": "code",
   "execution_count": 2,
   "id": "ca3e30c3",
   "metadata": {},
   "outputs": [
    {
     "name": "stdout",
     "output_type": "stream",
     "text": [
      "Original DataFrame:\n",
      "      Name  Age             Major\n",
      "0    Alice   22           Physics\n",
      "1      Bob   23           History\n",
      "2  Charlie   21  Computer Science\n",
      "3    David   22              Math\n",
      "4      Eva   24           Physics\n"
     ]
    }
   ],
   "source": [
    "import pandas as pd\n",
    "\n",
    "# Data for our table\n",
    "student_data = {\n",
    "    'Name': ['Alice', 'Bob', 'Charlie', 'David', 'Eva'],\n",
    "    'Age': [22, 23, 21, 22, 24],\n",
    "    'Major': ['Physics', 'History', 'Computer Science', 'Math', 'Physics']\n",
    "}\n",
    "\n",
    "# Create a DataFrame\n",
    "df = pd.DataFrame(student_data)\n",
    "\n",
    "print(\"Original DataFrame:\")\n",
    "print(df)"
   ]
  },
  {
   "cell_type": "code",
   "execution_count": 3,
   "id": "d21ef46c",
   "metadata": {},
   "outputs": [
    {
     "name": "stdout",
     "output_type": "stream",
     "text": [
      "First 3 rows:\n",
      "      Name  Age             Major\n",
      "0    Alice   22           Physics\n",
      "1      Bob   23           History\n",
      "2  Charlie   21  Computer Science\n"
     ]
    }
   ],
   "source": [
    "# Show the first 3 rows (default is 5)\n",
    "print(\"First 3 rows:\")\n",
    "print(df.head(3))"
   ]
  },
  {
   "cell_type": "code",
   "execution_count": 6,
   "id": "226d1bd9",
   "metadata": {},
   "outputs": [
    {
     "name": "stdout",
     "output_type": "stream",
     "text": [
      "The DataFrame has 5 rows and 3 columns.\n"
     ]
    }
   ],
   "source": [
    "# Get the number of rows and columns\n",
    "print(f\"The DataFrame has {df.shape[0]} rows and {df.shape[1]} columns.\")"
   ]
  },
  {
   "cell_type": "code",
   "execution_count": null,
   "id": "ef2ec7d9",
   "metadata": {},
   "outputs": [
    {
     "name": "stdout",
     "output_type": "stream",
     "text": [
      "--- df.describe() ---\n",
      "                            HireDate         Salary\n",
      "count                              7       7.000000\n",
      "mean   2022-09-03 17:08:34.285714176   76142.857143\n",
      "min              2021-05-12 00:00:00   58000.000000\n",
      "25%              2021-12-25 00:00:00   64000.000000\n",
      "50%              2022-09-30 00:00:00   72000.000000\n",
      "75%              2023-04-13 12:00:00   85000.000000\n",
      "max              2024-02-01 00:00:00  105000.000000\n",
      "std                              NaN   17620.334573\n"
     ]
    }
   ],
   "source": [
    "# Get a concise summary\n",
    "print(\"DataFrame Info:\")\n",
    "df.info()"
   ]
  },
  {
   "cell_type": "code",
   "execution_count": 7,
   "id": "d4251ee9",
   "metadata": {},
   "outputs": [
    {
     "name": "stdout",
     "output_type": "stream",
     "text": [
      "Selecting the 'Name' column:\n",
      "0      Alice\n",
      "1        Bob\n",
      "2    Charlie\n",
      "3      David\n",
      "4        Eva\n",
      "Name: Name, dtype: object\n"
     ]
    }
   ],
   "source": [
    "# Select only the 'Name' column\n",
    "names = df['Name']\n",
    "print(\"Selecting the 'Name' column:\")\n",
    "print(names)"
   ]
  },
  {
   "cell_type": "code",
   "execution_count": 13,
   "id": "b6699629",
   "metadata": {},
   "outputs": [
    {
     "name": "stdout",
     "output_type": "stream",
     "text": [
      "      Name             Major\n",
      "0    Alice           Physics\n",
      "1      Bob           History\n",
      "2  Charlie  Computer Science\n",
      "3    David              Math\n",
      "4      Eva           Physics\n"
     ]
    }
   ],
   "source": [
    "# Select the 'Name' and 'Major' columns\n",
    "name_and_major = df[['Name', 'Major']]\n",
    "print(name_and_major)"
   ]
  },
  {
   "cell_type": "code",
   "execution_count": 11,
   "id": "06a30eb2",
   "metadata": {},
   "outputs": [
    {
     "name": "stdout",
     "output_type": "stream",
     "text": [
      "  Name  Age    Major\n",
      "1  Bob   23  History\n",
      "4  Eva   24  Physics\n"
     ]
    }
   ],
   "source": [
    "# Get all students with Age > 22\n",
    "older_students = df[df['Age'] > 22]\n",
    "print(older_students)"
   ]
  },
  {
   "cell_type": "code",
   "execution_count": 12,
   "id": "08fe613a",
   "metadata": {},
   "outputs": [
    {
     "name": "stdout",
     "output_type": "stream",
     "text": [
      "  Name  Age    Major\n",
      "4  Eva   24  Physics\n"
     ]
    }
   ],
   "source": [
    "# Get all Physics majors older than 22\n",
    "# Note the parentheses around each condition\n",
    "physics_majors_older_than_22 = df[(df['Major'] == 'Physics') & (df['Age'] > 22)]\n",
    "print(physics_majors_older_than_22)"
   ]
  },
  {
   "cell_type": "code",
   "execution_count": 18,
   "id": "3abc24e2",
   "metadata": {},
   "outputs": [
    {
     "name": "stdout",
     "output_type": "stream",
     "text": [
      "      Name  Age             Major  GPA\n",
      "0    Alice   22           Physics  3.8\n",
      "1      Bob   23           History  3.5\n",
      "2  Charlie   21  Computer Science  3.9\n",
      "3    David   22              Math  3.4\n",
      "4      Eva   24           Physics  3.7\n"
     ]
    }
   ],
   "source": [
    "# Add a 'GPA' column\n",
    "df['GPA'] = [3.8, 3.5, 3.9, 3.4, 3.7]\n",
    "print(df)"
   ]
  },
  {
   "cell_type": "code",
   "execution_count": 19,
   "id": "c82847f5",
   "metadata": {},
   "outputs": [
    {
     "name": "stdout",
     "output_type": "stream",
     "text": [
      "      Name  Age             Major\n",
      "0    Alice   22           Physics\n",
      "1      Bob   23           History\n",
      "2  Charlie   21  Computer Science\n",
      "3    David   22              Math\n",
      "4      Eva   24           Physics\n"
     ]
    }
   ],
   "source": [
    "# Drop the 'GPA' column\n",
    "df = df.drop('GPA', axis=1)\n",
    "print(df)"
   ]
  },
  {
   "cell_type": "code",
   "execution_count": 20,
   "id": "1b86a496",
   "metadata": {},
   "outputs": [
    {
     "name": "stdout",
     "output_type": "stream",
     "text": [
      "count     5.000000\n",
      "mean     22.400000\n",
      "std       1.140175\n",
      "min      21.000000\n",
      "25%      22.000000\n",
      "50%      22.000000\n",
      "75%      23.000000\n",
      "max      24.000000\n",
      "Name: Age, dtype: float64\n"
     ]
    }
   ],
   "source": [
    "# Get statistics for numerical columns\n",
    "print(df['Age'].describe())"
   ]
  },
  {
   "cell_type": "code",
   "execution_count": null,
   "id": "51747f24",
   "metadata": {},
   "outputs": [
    {
     "name": "stdout",
     "output_type": "stream",
     "text": [
      "--- Sorted by Salary (Descending) ---\n",
      "              Name   Department   HireDate  Salary PerformanceScore\n",
      "EmployeeID                                                         \n",
      "E04          Sneha  Engineering 2021-05-20  105000              4.9\n",
      "E02          Priya  Engineering 2021-05-12   95000              4.8\n",
      "E06         Anjali    Marketing 2022-09-30   75000             <NA>\n",
      "E03          Rohan    Marketing 2023-01-15   72000              3.9\n",
      "E07          Kiran         <NA> 2023-07-11   68000              3.5\n",
      "E01           Arun           HR 2022-08-01   60000              4.5\n",
      "E05         Vikram           HR 2024-02-01   58000              4.1\n",
      "\n",
      "--- Sorted by Department, then Salary ---\n",
      "              Name   Department   HireDate  Salary PerformanceScore\n",
      "EmployeeID                                                         \n",
      "E02          Priya  Engineering 2021-05-12   95000              4.8\n",
      "E04          Sneha  Engineering 2021-05-20  105000              4.9\n",
      "E05         Vikram           HR 2024-02-01   58000              4.1\n",
      "E01           Arun           HR 2022-08-01   60000              4.5\n",
      "E03          Rohan    Marketing 2023-01-15   72000              3.9\n",
      "E06         Anjali    Marketing 2022-09-30   75000             <NA>\n",
      "E07          Kiran         <NA> 2023-07-11   68000              3.5\n"
     ]
    }
   ],
   "source": [
    "# Calculate the average age\n",
    "average_age = df['Age'].mean()\n",
    "print(f\"\\nThe average age of the students is: {average_age}\")"
   ]
  }
 ],
 "metadata": {
  "kernelspec": {
   "display_name": "venv (3.11.0)",
   "language": "python",
   "name": "python3"
  },
  "language_info": {
   "codemirror_mode": {
    "name": "ipython",
    "version": 3
   },
   "file_extension": ".py",
   "mimetype": "text/x-python",
   "name": "python",
   "nbconvert_exporter": "python",
   "pygments_lexer": "ipython3",
   "version": "3.11.0"
  }
 },
 "nbformat": 4,
 "nbformat_minor": 5
}
